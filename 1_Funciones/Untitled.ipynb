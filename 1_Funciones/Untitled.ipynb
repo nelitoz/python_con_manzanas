{
 "cells": [
  {
   "cell_type": "code",
   "execution_count": 1,
   "metadata": {},
   "outputs": [],
   "source": [
    "import bienvenida"
   ]
  },
  {
   "cell_type": "code",
   "execution_count": 2,
   "metadata": {},
   "outputs": [
    {
     "name": "stdout",
     "output_type": "stream",
     "text": [
      "Bienvenido al programa\n"
     ]
    }
   ],
   "source": [
    "bienvenida.saludo()"
   ]
  },
  {
   "cell_type": "code",
   "execution_count": 3,
   "metadata": {},
   "outputs": [
    {
     "name": "stdout",
     "output_type": "stream",
     "text": [
      "Help on module bienvenida:\n",
      "\n",
      "NAME\n",
      "    bienvenida\n",
      "\n",
      "FILE\n",
      "    /home/nelitoz/Python_con_manzanas/python_con_manzanas/1_Funciones/bienvenida.py\n",
      "\n",
      "FUNCTIONS\n",
      "    main()\n",
      "    \n",
      "    saludo()\n",
      "\n",
      "\n"
     ]
    }
   ],
   "source": [
    "help(bienvenida)"
   ]
  },
  {
   "cell_type": "code",
   "execution_count": null,
   "metadata": {},
   "outputs": [],
   "source": []
  }
 ],
 "metadata": {
  "kernelspec": {
   "display_name": "py2_network_gral",
   "language": "python",
   "name": "py2_network_gral"
  },
  "language_info": {
   "codemirror_mode": {
    "name": "ipython",
    "version": 2
   },
   "file_extension": ".py",
   "mimetype": "text/x-python",
   "name": "python",
   "nbconvert_exporter": "python",
   "pygments_lexer": "ipython2",
   "version": "2.7.15+"
  }
 },
 "nbformat": 4,
 "nbformat_minor": 2
}
