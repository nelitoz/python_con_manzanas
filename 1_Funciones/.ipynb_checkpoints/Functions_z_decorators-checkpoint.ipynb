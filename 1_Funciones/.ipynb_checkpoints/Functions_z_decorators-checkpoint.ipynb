{
 "cells": [
  {
   "cell_type": "code",
   "execution_count": null,
   "metadata": {},
   "outputs": [],
   "source": [
    "# Decorators\n",
    " ## ejemplo de closure\n",
    "def outer_function(msg):\n",
    "    message = msg\n",
    "    \n",
    "    def inner_function():\n",
    "        print (message)\n",
    "    return inner_function"
   ]
  },
  {
   "cell_type": "code",
   "execution_count": null,
   "metadata": {},
   "outputs": [],
   "source": [
    "hi_func = outer_function(\"hi\")\n",
    "bye_func = outer_function(\"bye\")"
   ]
  },
  {
   "cell_type": "code",
   "execution_count": null,
   "metadata": {},
   "outputs": [],
   "source": [
    "hi_func()\n",
    "bye_func()"
   ]
  },
  {
   "cell_type": "code",
   "execution_count": null,
   "metadata": {},
   "outputs": [],
   "source": [
    "# Decorator"
   ]
  },
  {
   "cell_type": "markdown",
   "metadata": {},
   "source": [
    "Un decorator es una funcion(funcion1) que toma otra funcion(funcion2) como argumento, agrega una funcionalidad(a la funcion2) y retorna otra funcion, sin alterar el codigo de la funcion del argumento."
   ]
  },
  {
   "cell_type": "code",
   "execution_count": null,
   "metadata": {},
   "outputs": [],
   "source": [
    "\"\"\"\n",
    "Tenemos que la funncion decorator_function toma como argumento una funcion (que sera la funcion display).\n",
    "agregara una funcionalidad (la cual aun no agregamos aqui) y posteriormente retornara la ejecucion de la funcion\n",
    "display.\n",
    "\"\"\"\n",
    "def decorator_function(original_function):\n",
    "    def wrapper_function():\n",
    "        return original_function()\n",
    "    return wrapper_function\n",
    "\n",
    "def display():\n",
    "    print (\"display function ran\")\n",
    "\n",
    "decoreated_display = decorator_function(display)\n",
    "decoreated_display()"
   ]
  },
  {
   "cell_type": "markdown",
   "metadata": {},
   "source": [
    "ahora agregemos una funcionalidad para display"
   ]
  },
  {
   "cell_type": "code",
   "execution_count": null,
   "metadata": {},
   "outputs": [],
   "source": [
    "def decorator_function(original_function):\n",
    "    def wrapper_function():\n",
    "        print (\"<<This is a print functionallity for display function>>\")\n",
    "        return original_function()\n",
    "    return wrapper_function\n",
    "\n",
    "def display():\n",
    "    print (\"This is display function\")\n",
    "    \n",
    "decoreated_display = decorator_function(display)\n"
   ]
  },
  {
   "cell_type": "code",
   "execution_count": null,
   "metadata": {},
   "outputs": [],
   "source": [
    "decoreated_display()"
   ]
  },
  {
   "cell_type": "markdown",
   "metadata": {},
   "source": [
    "ahora vamos a hacer lo mismo pero con una sintaxis mas comun en el lenguaje"
   ]
  },
  {
   "cell_type": "code",
   "execution_count": null,
   "metadata": {},
   "outputs": [],
   "source": [
    "def decorator_function(original_function):\n",
    "    def wrapper_function():\n",
    "        print (\"<<This is a print functionallity for display function>>\")\n",
    "        return original_function()\n",
    "    return wrapper_function\n",
    "\n",
    "@decorator_function\n",
    "def display():\n",
    "    print (\"This is display function\")\n",
    "\n",
    "display()"
   ]
  },
  {
   "cell_type": "markdown",
   "metadata": {},
   "source": [
    "Decorators con original function arguments"
   ]
  },
  {
   "cell_type": "code",
   "execution_count": null,
   "metadata": {},
   "outputs": [],
   "source": [
    "def decorator_function(original_function):\n",
    "    def wrapper_function():\n",
    "        print (f\"<<Adding Functionallity for:{original_function.__name__}>>\")\n",
    "        return original_function()\n",
    "    return wrapper_function\n",
    "\n",
    "@decorator_function\n",
    "def display():\n",
    "    print (\"This is the original display function\\n\")\n",
    "@decorator_function\n",
    "def display_info(name, age):\n",
    "    print (f\"Display_info func ran with arguments: {name}, {age}\\n\")\n",
    "\n",
    "display()\n",
    "display_info(\"Daniel\",38)"
   ]
  },
  {
   "cell_type": "markdown",
   "metadata": {},
   "source": [
    "decorar la funcion display_info, arroja un error, ya que ella esta pasando 2 argumentos a wrapper_function\n",
    "y wrapper_function no espera ningun argumento. para arreglar este problema, usamos *args y **kwargs"
   ]
  },
  {
   "cell_type": "code",
   "execution_count": null,
   "metadata": {},
   "outputs": [],
   "source": [
    "def decorator_function(original_function):\n",
    "    def wrapper_function(*args, **kwargs):\n",
    "        print (f\"<<Adding Functionallity for:{original_function.__name__}>>\")\n",
    "        return original_function(*args, **kwargs)\n",
    "    return wrapper_function\n",
    "\n",
    "@decorator_function\n",
    "def display():\n",
    "    print (\"This is the original display function\\n\")\n",
    "@decorator_function\n",
    "def display_info(name, age):\n",
    "    print (f\"Display_info func ran with arguments: {name}, {age}\\n\")\n",
    "\n",
    "display()\n",
    "display_info(\"Daniel\",38)"
   ]
  },
  {
   "cell_type": "markdown",
   "metadata": {},
   "source": [
    "En el siguiente ejemplo, veremos como una clase se usara como decorador en lugar de una funcion"
   ]
  },
  {
   "cell_type": "markdown",
   "metadata": {},
   "source": [
    "Es poco utilizado de esta forma pero es bueno tener en cuenta que existe"
   ]
  },
  {
   "cell_type": "code",
   "execution_count": null,
   "metadata": {},
   "outputs": [],
   "source": [
    "class DecoratorClass(object):\n",
    "    def __init__(self, original_function):\n",
    "        self.original_function = original_function\n",
    "    def __call__(self, *args, **kwargs):\n",
    "        print (f\"<<Adding Functionallity for:{self.original_function.__name__}>>\")\n",
    "        return self.original_function(*args, **kwargs)\n",
    "\n",
    "@DecoratorClass\n",
    "def display():\n",
    "    print (\"This is the original display function\\n\")\n",
    "@DecoratorClass\n",
    "def display_info(name, age):\n",
    "    print (f\"Display_info func ran with arguments: {name}, {age}\\n\")\n",
    "\n",
    "display()\n",
    "display_info(\"Daniel\",38)"
   ]
  },
  {
   "cell_type": "code",
   "execution_count": null,
   "metadata": {},
   "outputs": [],
   "source": []
  }
 ],
 "metadata": {
  "kernelspec": {
   "display_name": "py3_network_gral",
   "language": "python",
   "name": "py3_network_gral"
  },
  "language_info": {
   "codemirror_mode": {
    "name": "ipython",
    "version": 3
   },
   "file_extension": ".py",
   "mimetype": "text/x-python",
   "name": "python",
   "nbconvert_exporter": "python",
   "pygments_lexer": "ipython3",
   "version": "3.6.9"
  }
 },
 "nbformat": 4,
 "nbformat_minor": 2
}
