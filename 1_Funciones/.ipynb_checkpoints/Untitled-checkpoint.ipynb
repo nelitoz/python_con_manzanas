{
 "cells": [
  {
   "cell_type": "code",
   "execution_count": 3,
   "metadata": {},
   "outputs": [
    {
     "name": "stdout",
     "output_type": "stream",
     "text": [
      "__main__\n"
     ]
    }
   ],
   "source": [
    "def bienvenida():\n",
    "    \"\"\" Da la bienvenida al usuario\"\"\"\n",
    "    print \"Bienvenido al programa\" \n",
    "\n",
    "\n",
    "bienvenida()\n",
    "\n",
    "if __name__ == \"__main__\":\n",
    "    print __name__"
   ]
  },
  {
   "cell_type": "code",
   "execution_count": null,
   "metadata": {},
   "outputs": [],
   "source": []
  }
 ],
 "metadata": {
  "kernelspec": {
   "display_name": "py2_network_gral",
   "language": "python",
   "name": "py2_network_gral"
  },
  "language_info": {
   "codemirror_mode": {
    "name": "ipython",
    "version": 2
   },
   "file_extension": ".py",
   "mimetype": "text/x-python",
   "name": "python",
   "nbconvert_exporter": "python",
   "pygments_lexer": "ipython2",
   "version": "2.7.15+"
  }
 },
 "nbformat": 4,
 "nbformat_minor": 2
}
