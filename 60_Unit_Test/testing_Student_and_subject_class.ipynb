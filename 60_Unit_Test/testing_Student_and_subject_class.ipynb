{
 "cells": [
  {
   "cell_type": "code",
   "execution_count": 252,
   "metadata": {},
   "outputs": [],
   "source": [
    "import subject\n",
    "\n",
    "class Student:\n",
    "    def __init__(self, name):\n",
    "        self.name = name\n",
    "        self.email = None\n",
    "        self.subjects = []\n",
    "        self.grades = []\n",
    "\n",
    "    def add_subject(self, subject):\n",
    "        self.subject = subject\n",
    "        if self.subject:\n",
    "            if self.subject not in self.subjects:\n",
    "                self.subjects.append(self.subject)\n",
    "                return True\n",
    "            else:\n",
    "                return False\n",
    "        else:\n",
    "            return False\n",
    "\n",
    "    def set_grade(self, subject, grade):\n",
    "        if subject and int(grade)!= 0:\n",
    "            if subject not in self.subjects:\n",
    "                raise ValueError(\"No subject Found\")\n",
    "                \n",
    "            if int(grade)<=10 and int(grade)>0:\n",
    "                self.subject_grade = (subject,grade)\n",
    "                if self.subject_grade not in self.grades:\n",
    "                    self.grades.append(self.subject_grade)\n",
    "                    return True\n",
    "            else:\n",
    "                raise ValueError(\"Wrong Grade\")\n",
    "        else:\n",
    "            return False\n",
    "\n",
    "    def get_grades_for_subject(self, subject):\n",
    "        if subject:\n",
    "            grades = []\n",
    "            for grade in self.grades:\n",
    "                if grade[0] is subject:\n",
    "                    grades.append(grade[1])\n",
    "        else:\n",
    "            return False\n",
    "        return grades"
   ]
  },
  {
   "cell_type": "code",
   "execution_count": 253,
   "metadata": {},
   "outputs": [],
   "source": [
    "s1 = Student(\"Daniel\")"
   ]
  },
  {
   "cell_type": "code",
   "execution_count": 254,
   "metadata": {},
   "outputs": [
    {
     "data": {
      "text/plain": [
       "True"
      ]
     },
     "execution_count": 254,
     "metadata": {},
     "output_type": "execute_result"
    }
   ],
   "source": [
    "s1.add_subject(\"Mate\")"
   ]
  },
  {
   "cell_type": "code",
   "execution_count": 255,
   "metadata": {},
   "outputs": [
    {
     "data": {
      "text/plain": [
       "False"
      ]
     },
     "execution_count": 255,
     "metadata": {},
     "output_type": "execute_result"
    }
   ],
   "source": [
    "s1.set_grade(\"Mate\",0)"
   ]
  },
  {
   "cell_type": "code",
   "execution_count": 246,
   "metadata": {},
   "outputs": [
    {
     "data": {
      "text/plain": [
       "[]"
      ]
     },
     "execution_count": 246,
     "metadata": {},
     "output_type": "execute_result"
    }
   ],
   "source": [
    "s1.get_grades_for_subject(\"py\")"
   ]
  },
  {
   "cell_type": "code",
   "execution_count": null,
   "metadata": {},
   "outputs": [],
   "source": []
  },
  {
   "cell_type": "code",
   "execution_count": null,
   "metadata": {},
   "outputs": [],
   "source": []
  },
  {
   "cell_type": "code",
   "execution_count": null,
   "metadata": {},
   "outputs": [],
   "source": []
  },
  {
   "cell_type": "code",
   "execution_count": null,
   "metadata": {},
   "outputs": [],
   "source": []
  },
  {
   "cell_type": "code",
   "execution_count": null,
   "metadata": {},
   "outputs": [],
   "source": []
  },
  {
   "cell_type": "code",
   "execution_count": null,
   "metadata": {},
   "outputs": [],
   "source": [
    "    def set_grade(self, subject, grade):\n",
    "        if int(grade)<=10 and int(grade)>0:\n",
    "            if subject and grade:\n",
    "                self.subject_grade = (subject,grade)\n",
    "                if self.subject_grade not in self.grades:\n",
    "                    self.grades.append(self.subject_grade)\n",
    "                    return True\n",
    "            else:\n",
    "                return False\n",
    "        else:\n",
    "            raise ValueError(\"wrong grade\")"
   ]
  },
  {
   "cell_type": "code",
   "execution_count": null,
   "metadata": {},
   "outputs": [],
   "source": []
  },
  {
   "cell_type": "code",
   "execution_count": null,
   "metadata": {},
   "outputs": [],
   "source": []
  },
  {
   "cell_type": "code",
   "execution_count": null,
   "metadata": {},
   "outputs": [],
   "source": []
  },
  {
   "cell_type": "code",
   "execution_count": null,
   "metadata": {},
   "outputs": [],
   "source": []
  }
 ],
 "metadata": {
  "kernelspec": {
   "display_name": "py3_network_gral",
   "language": "python",
   "name": "py3_network_gral"
  },
  "language_info": {
   "codemirror_mode": {
    "name": "ipython",
    "version": 3
   },
   "file_extension": ".py",
   "mimetype": "text/x-python",
   "name": "python",
   "nbconvert_exporter": "python",
   "pygments_lexer": "ipython3",
   "version": "3.6.9"
  }
 },
 "nbformat": 4,
 "nbformat_minor": 2
}
