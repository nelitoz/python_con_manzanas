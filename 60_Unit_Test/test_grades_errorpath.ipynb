{
 "cells": [
  {
   "cell_type": "code",
   "execution_count": 2,
   "metadata": {},
   "outputs": [],
   "source": [
    "import pytest\n",
    "\n",
    "@pytest.fixture\n",
    "def student():\n",
    "    from student import Student\n",
    "\n",
    "    stud = Student('Daniel Castillo')\n",
    "    yield stud\n",
    "    del stud\n",
    "\n",
    "\n",
    "@pytest.fixture\n",
    "def subject():\n",
    "    from subject import Subject\n",
    "\n",
    "    s = Subject('Unit Testing 101')\n",
    "    yield s\n",
    "    del s\n",
    "\n",
    "\n",
    "@pytest.fixture\n",
    "def subjects():\n",
    "    from subject import Subject\n",
    "\n",
    "    s = [Subject('Unit Testing 101'), Subject('CS500')]\n",
    "    yield s\n",
    "    del s\n",
    "\n",
    "\n",
    "@pytest.mark.usefixtures('student', 'subject')\n",
    "class TestErrorPathSubject:\n",
    "    pass\n",
    "\n",
    "\n",
    "@pytest.mark.usefixtures('student', 'subject')\n",
    "class TestErrorPathAddGrade:\n",
    "    pass\n",
    "\n",
    "\n",
    "@pytest.mark.usefixtures('student', 'subject', 'subjects')\n",
    "class TestErrorPathGetGrade:\n",
    "    pass"
   ]
  },
  {
   "cell_type": "code",
   "execution_count": null,
   "metadata": {},
   "outputs": [],
   "source": []
  }
 ],
 "metadata": {
  "kernelspec": {
   "display_name": "py3_network_gral",
   "language": "python",
   "name": "py3_network_gral"
  },
  "language_info": {
   "codemirror_mode": {
    "name": "ipython",
    "version": 3
   },
   "file_extension": ".py",
   "mimetype": "text/x-python",
   "name": "python",
   "nbconvert_exporter": "python",
   "pygments_lexer": "ipython3",
   "version": "3.6.9"
  }
 },
 "nbformat": 4,
 "nbformat_minor": 2
}
