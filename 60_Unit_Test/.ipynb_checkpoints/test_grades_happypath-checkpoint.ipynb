{
 "cells": [
  {
   "cell_type": "code",
   "execution_count": 3,
   "metadata": {},
   "outputs": [],
   "source": [
    "import pytest\n",
    "\n",
    "@pytest.fixture\n",
    "def student():\n",
    "    from student import Student\n",
    "    stud = Student('dacasti2 ragna')\n",
    "    yield stud\n",
    "    del stud\n",
    "\n",
    "@pytest.fixture\n",
    "def subject():\n",
    "   from subject import Subject\n",
    "   s = Subject(\"UnitTest 101\")\n",
    "   yield s\n",
    "   del s\n",
    "\n",
    "\n",
    "@pytest.mark.usefixtures('student', 'subject')\n",
    "class TestHappyPath:\n",
    "    def test_add_subject_to_student(self, student, subject):\n",
    "        assert student.add_subject(subject) is True\n",
    "\n",
    "    def test_add_grade_to_subject(self, student, subject):\n",
    "        student.add_subject(subject)\n",
    "        assert student.set_grade(subject, 10) is True\n",
    "\n",
    "    def test_get_subject_grade(self,student,subject):\n",
    "        student.add_subject(subject)\n",
    "        student.set_grade(subject, 9)\n",
    "        student.set_grade(subject, 8)\n",
    "        assert student.get_grades_for_subject(subject) == [9,8]"
   ]
  },
  {
   "cell_type": "code",
   "execution_count": null,
   "metadata": {},
   "outputs": [],
   "source": []
  }
 ],
 "metadata": {
  "kernelspec": {
   "display_name": "py3_network_gral",
   "language": "python",
   "name": "py3_network_gral"
  },
  "language_info": {
   "codemirror_mode": {
    "name": "ipython",
    "version": 3
   },
   "file_extension": ".py",
   "mimetype": "text/x-python",
   "name": "python",
   "nbconvert_exporter": "python",
   "pygments_lexer": "ipython3",
   "version": "3.6.9"
  }
 },
 "nbformat": 4,
 "nbformat_minor": 2
}
