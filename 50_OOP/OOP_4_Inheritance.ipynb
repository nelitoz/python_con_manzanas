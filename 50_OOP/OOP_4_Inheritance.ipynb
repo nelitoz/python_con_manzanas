{
 "cells": [
  {
   "cell_type": "code",
   "execution_count": 53,
   "metadata": {},
   "outputs": [],
   "source": [
    "class Employee:\n",
    "    raise_amout = 1.04\n",
    "    \n",
    "    def __init__(self,first,last,pay):\n",
    "        self.first = first\n",
    "        self.last = last\n",
    "        self.pay = pay\n",
    "        self.mail = f\"{first}.{last}@nelitoz.com\"\n",
    "    \n",
    "    def fullname(self):\n",
    "        return f\"{self.first} {self.last}\"\n",
    "    \n",
    "    def apply_rise(self):\n",
    "        self.pay = int(self.pay * self.raise_amout)"
   ]
  },
  {
   "cell_type": "markdown",
   "metadata": {},
   "source": [
    "Crearemos 2 clases mas especificas para definir empleados administrativos y desarrolladores.\n",
    "para no codificar nuevamente el perfil del empleado general, usaremos la clasee Employee\n",
    "para que las clases de administrativos y desarrolladores hereden sus atributos."
   ]
  },
  {
   "cell_type": "code",
   "execution_count": 10,
   "metadata": {},
   "outputs": [],
   "source": [
    "class Developer(Employee):\n",
    "    pass"
   ]
  },
  {
   "cell_type": "code",
   "execution_count": 11,
   "metadata": {},
   "outputs": [],
   "source": [
    "dev1 = Developer(\"Daniel\",\"Castillo\",100)\n",
    "dev2 = Developer(\"l0k1\",\"rag\",200)"
   ]
  },
  {
   "cell_type": "code",
   "execution_count": 16,
   "metadata": {},
   "outputs": [
    {
     "name": "stdout",
     "output_type": "stream",
     "text": [
      "100\n",
      "200\n"
     ]
    }
   ],
   "source": [
    "print (dev1.pay)\n",
    "print (dev2.pay)"
   ]
  },
  {
   "cell_type": "markdown",
   "metadata": {},
   "source": [
    "Para ver que pasa con la clase developer, usemos la funcion help para ver el orden que usa la clase developer\n",
    "para definir sus metodos"
   ]
  },
  {
   "cell_type": "code",
   "execution_count": 22,
   "metadata": {},
   "outputs": [],
   "source": [
    "print (help(dev1))"
   ]
  },
  {
   "cell_type": "code",
   "execution_count": 21,
   "metadata": {},
   "outputs": [
    {
     "name": "stdout",
     "output_type": "stream",
     "text": [
      "1.04\n",
      "1.04\n"
     ]
    }
   ],
   "source": [
    "print (dev1.raise_amout)\n",
    "print (dev2.raise_amout)"
   ]
  },
  {
   "cell_type": "markdown",
   "metadata": {},
   "source": [
    "No es justo que un administrativo tenga un aumento mas grande que los developers.\n",
    "para eso, sobre escribimos la variable de la clase heredada por una especifica de la clase developers"
   ]
  },
  {
   "cell_type": "code",
   "execution_count": 40,
   "metadata": {},
   "outputs": [],
   "source": [
    "class Developer(Employee):\n",
    "    raise_amout = 1.20"
   ]
  },
  {
   "cell_type": "code",
   "execution_count": 41,
   "metadata": {},
   "outputs": [],
   "source": [
    "dev1 = Developer(\"Daniel\",\"Castillo\",100)\n",
    "emp1 = Employee(\"Pedro\",\"Paramo\",100)"
   ]
  },
  {
   "cell_type": "code",
   "execution_count": 42,
   "metadata": {},
   "outputs": [
    {
     "name": "stdout",
     "output_type": "stream",
     "text": [
      "100\n",
      "100\n"
     ]
    }
   ],
   "source": [
    "print (dev1.pay)\n",
    "print (emp1.pay)"
   ]
  },
  {
   "cell_type": "code",
   "execution_count": 46,
   "metadata": {},
   "outputs": [
    {
     "name": "stdout",
     "output_type": "stream",
     "text": [
      "Daniel now has a salary:206 USD\n",
      "Pedro now has a salary:116 USD\n"
     ]
    }
   ],
   "source": [
    "dev1.apply_rise()\n",
    "emp1.apply_rise()\n",
    "print (f\"{dev1.first} now has a salary:{dev1.pay} USD\")\n",
    "print (f\"{emp1.first} now has a salary:{emp1.pay} USD\")"
   ]
  },
  {
   "cell_type": "markdown",
   "metadata": {},
   "source": [
    "Existe un metodo llamado super() el cual tiene la capacidad de llamar a un metodo de la clase padre dentro de la clase hija.\n",
    "Un caso de uso para este metodo super es:\n",
    " - Cuando la clase hija necesita inicializar valores especificos que en la la clase padre no existen.\n",
    " \n",
    "   Esto implicaria iniciar nuevamente todos los valores en la clase hijo\n",
    "   \n",
    "   la clase padre ya tiene inicializados esos valores\n",
    "   \n",
    "   lo que necesitamos es solo llamar la funcion \"\\__init__\" padre dentro de la funcion \\__init__\" del hijo.\n",
    "   \n",
    "   para llamar esa funcion padre \\__init__\" usamos la funcion super()\n",
    "   \n",
    "Hagamoslo"
   ]
  },
  {
   "cell_type": "code",
   "execution_count": 82,
   "metadata": {},
   "outputs": [],
   "source": [
    "class Developer(Employee):\n",
    "    raise_amout = 1.20\n",
    "    #vamos a inicializar aqui las variables otra vez?\n",
    "    # eso seria poco pythonista.\n",
    "    #dejemos que la clase padre 'Employee' se encarge de inizializar las variables que el tiene\n",
    "    #y la nueva variable 'prog_lang' que la inicie la clase 'Developer'\n",
    "    #para eso usamos la funcion super()\n",
    "    def __init__(self,first,last,pay,prog_lang):\n",
    "        super().__init__(first,last,pay)\n",
    "        self.prog_lang = prog_lang\n",
    "    def __repr__(self):\n",
    "        return str(self.__dict__)"
   ]
  },
  {
   "cell_type": "code",
   "execution_count": 83,
   "metadata": {},
   "outputs": [],
   "source": [
    "dev1 = Developer(\"Daniel\",\"Castillo\",100,\"python\")\n",
    "dev2 = Developer(\"l0k1\",\"rag\",100,\"java\")\n",
    "emp1 = Employee(\"Pedro\",\"Paramo\",100)"
   ]
  },
  {
   "cell_type": "code",
   "execution_count": 84,
   "metadata": {},
   "outputs": [
    {
     "name": "stdout",
     "output_type": "stream",
     "text": [
      "Daniel Castillo is a python programer\n",
      "l0k1 rag is a java programer\n"
     ]
    }
   ],
   "source": [
    "print (f\"{dev1.fullname()} is a {dev1.prog_lang} programer\")\n",
    "print (f\"{dev2.fullname()} is a {dev2.prog_lang} programer\")"
   ]
  },
  {
   "cell_type": "markdown",
   "metadata": {},
   "source": [
    "Hagamos una clase mas para practicar, ahora haremos la clase de managers administrativos"
   ]
  },
  {
   "cell_type": "code",
   "execution_count": 85,
   "metadata": {},
   "outputs": [],
   "source": [
    "class Manager(Employee):\n",
    "    raise_amout = 1.15\n",
    "    \n",
    "    def __init__(self,first,last,pay,managed_people=None):\n",
    "        super().__init__(first,last,pay)\n",
    "        if managed_people == None:\n",
    "            self.managed_people = []\n",
    "        else:\n",
    "            self.managed_people = managed_people\n",
    "    \n",
    "    def remove_people(self,dude):\n",
    "        self.managed_people.remove(dude)\n",
    "        print (f\"{dude}, was removed\")\n",
    "\n",
    "    def append_people(self,dude):\n",
    "        self.managed_people.append(dude)\n",
    "        print (f\"{dude}, was added\")\n",
    "    \n",
    "    def show_people(self):\n",
    "        return (self.managed_people)\n",
    "        "
   ]
  },
  {
   "cell_type": "code",
   "execution_count": 113,
   "metadata": {},
   "outputs": [],
   "source": [
    "manager1 = Manager(\"Jacobo\",\"Sierra\",80,[dev1,dev2])\n",
    "manager2 = Manager(\"Marco\",\"Cordoba\",85,[dev1])"
   ]
  },
  {
   "cell_type": "code",
   "execution_count": 114,
   "metadata": {},
   "outputs": [
    {
     "name": "stdout",
     "output_type": "stream",
     "text": [
      "[{'first': 'Daniel', 'last': 'Castillo', 'pay': 100, 'mail': 'Daniel.Castillo@nelitoz.com', 'prog_lang': 'python'}, {'first': 'l0k1', 'last': 'rag', 'pay': 100, 'mail': 'l0k1.rag@nelitoz.com', 'prog_lang': 'java'}]\n"
     ]
    }
   ],
   "source": [
    "print (manager1.show_people())"
   ]
  },
  {
   "cell_type": "code",
   "execution_count": 115,
   "metadata": {},
   "outputs": [
    {
     "name": "stdout",
     "output_type": "stream",
     "text": [
      "{'first': 'l0k1', 'last': 'rag', 'pay': 100, 'mail': 'l0k1.rag@nelitoz.com', 'prog_lang': 'java'}, was added\n",
      "Daniel\n",
      "l0k1\n"
     ]
    }
   ],
   "source": [
    "manager2.append_people(dev2)\n",
    "for dude in manager2.show_people():\n",
    "    print (dude.first)"
   ]
  },
  {
   "cell_type": "code",
   "execution_count": 116,
   "metadata": {},
   "outputs": [
    {
     "name": "stdout",
     "output_type": "stream",
     "text": [
      "{'first': 'Daniel', 'last': 'Castillo', 'pay': 100, 'mail': 'Daniel.Castillo@nelitoz.com', 'prog_lang': 'python'}, was removed\n",
      "l0k1\n"
     ]
    }
   ],
   "source": [
    "manager2.remove_people(dev1)\n",
    "for dude in manager2.show_people():\n",
    "    print (dude.first)"
   ]
  },
  {
   "cell_type": "code",
   "execution_count": 122,
   "metadata": {},
   "outputs": [
    {
     "name": "stdout",
     "output_type": "stream",
     "text": [
      "True\n",
      "True\n",
      "False\n",
      "True\n",
      "True\n",
      "True\n"
     ]
    }
   ],
   "source": [
    "print (isinstance(dev1, Developer))\n",
    "print (isinstance(dev1, Employee))\n",
    "\n",
    "print (isinstance(manager1, Developer))\n",
    "print (isinstance(manager1, Employee))\n",
    "\n",
    "print (issubclass(Manager,Employee))\n",
    "print (issubclass(Manager,Manager))\n"
   ]
  },
  {
   "cell_type": "code",
   "execution_count": null,
   "metadata": {},
   "outputs": [],
   "source": []
  }
 ],
 "metadata": {
  "kernelspec": {
   "display_name": "Python 3 (ipykernel)",
   "language": "python",
   "name": "python3"
  },
  "language_info": {
   "codemirror_mode": {
    "name": "ipython",
    "version": 3
   },
   "file_extension": ".py",
   "mimetype": "text/x-python",
   "name": "python",
   "nbconvert_exporter": "python",
   "pygments_lexer": "ipython3",
   "version": "3.9.9"
  }
 },
 "nbformat": 4,
 "nbformat_minor": 2
}
