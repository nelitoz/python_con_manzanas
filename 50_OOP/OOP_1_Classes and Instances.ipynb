{
 "cells": [
  {
   "cell_type": "code",
   "execution_count": 16,
   "metadata": {},
   "outputs": [],
   "source": [
    "class Employee:\n",
    "    pass"
   ]
  },
  {
   "cell_type": "code",
   "execution_count": 17,
   "metadata": {},
   "outputs": [],
   "source": [
    "emp1 = Employee()\n",
    "emp2 = Employee()"
   ]
  },
  {
   "cell_type": "code",
   "execution_count": 18,
   "metadata": {},
   "outputs": [
    {
     "name": "stdout",
     "output_type": "stream",
     "text": [
      "<__main__.Employee object at 0x7f48eb7e7a90>\n",
      "<__main__.Employee object at 0x7f48eb7f4c88>\n"
     ]
    }
   ],
   "source": [
    "print (emp1)\n",
    "print (emp2)"
   ]
  },
  {
   "cell_type": "code",
   "execution_count": 19,
   "metadata": {},
   "outputs": [],
   "source": [
    "emp1.first = \"Daniel\"\n",
    "emp1.last = \"Castillo\"\n",
    "emp1.email = \"dacasti2@nelitoz.com\"\n",
    "emp1.pay = \"800000\""
   ]
  },
  {
   "cell_type": "code",
   "execution_count": 20,
   "metadata": {},
   "outputs": [],
   "source": [
    "emp2.first = \"l0k1\"\n",
    "emp2.last = \"Ragnarok\"\n",
    "emp2.email = \"l0k1@nelitoz.com\"\n",
    "emp2.pay = \"900000\""
   ]
  },
  {
   "cell_type": "code",
   "execution_count": 22,
   "metadata": {},
   "outputs": [
    {
     "name": "stdout",
     "output_type": "stream",
     "text": [
      "Daniel\n",
      "l0k1\n"
     ]
    }
   ],
   "source": [
    "print (emp1.first)\n",
    "print (emp2.first)"
   ]
  },
  {
   "cell_type": "markdown",
   "metadata": {},
   "source": [
    "Esta forma de hacer clases no es optima, tendriamos mucho codigo.\n",
    "hagamos una clase que inicialice valores"
   ]
  },
  {
   "cell_type": "code",
   "execution_count": 23,
   "metadata": {},
   "outputs": [],
   "source": [
    "class Employee:\n",
    "    def __init__(self,first,last,pay):\n",
    "        self.first = first\n",
    "        self.last = last\n",
    "        self.pay = pay\n",
    "        self.mail = f\"{self.first}.{self.last}@nelitoz.com\""
   ]
  },
  {
   "cell_type": "code",
   "execution_count": 30,
   "metadata": {},
   "outputs": [],
   "source": [
    "emp1 = Employee(\"daniel\",\"castillo\",90000)\n",
    "emp2 = Employee(\"l0k1\",\"ragnarok\",100000)"
   ]
  },
  {
   "cell_type": "code",
   "execution_count": 32,
   "metadata": {},
   "outputs": [
    {
     "name": "stdout",
     "output_type": "stream",
     "text": [
      "daniel\n",
      "castillo\n",
      "daniel.castillo@nelitoz.com\n",
      "daniel castillo\n"
     ]
    }
   ],
   "source": [
    "print (emp1.first)\n",
    "print (emp1.last)\n",
    "print (emp1.mail)\n",
    "print (f\"{emp1.first} {emp1.last}\")"
   ]
  },
  {
   "cell_type": "markdown",
   "metadata": {},
   "source": [
    "# vamos a agregar una funcionalidad a la clase para imprimer el nombre completo"
   ]
  },
  {
   "cell_type": "code",
   "execution_count": 37,
   "metadata": {},
   "outputs": [],
   "source": [
    "class Employee:\n",
    "    def __init__(self,first,last,pay):\n",
    "        self.first = first\n",
    "        self.last = last\n",
    "        self.pay = pay\n",
    "        self.mail = f\"{self.first}.{self.last}@nelitoz.com\"\n",
    "    \n",
    "    def fullname(self):\n",
    "        return f\"{self.first} {self.last}\""
   ]
  },
  {
   "cell_type": "code",
   "execution_count": 40,
   "metadata": {},
   "outputs": [],
   "source": [
    "emp1 = Employee(\"Daniel\", \"Castillo\", 100000)\n",
    "emp2 = Employee(\"l0k1\",\"ragnarok\",100000)"
   ]
  },
  {
   "cell_type": "code",
   "execution_count": 42,
   "metadata": {},
   "outputs": [
    {
     "name": "stdout",
     "output_type": "stream",
     "text": [
      "Daniel Castillo\n",
      "l0k1 ragnarok\n"
     ]
    }
   ],
   "source": [
    "print (emp1.fullname())\n",
    "print (emp2.fullname())"
   ]
  },
  {
   "cell_type": "code",
   "execution_count": null,
   "metadata": {},
   "outputs": [],
   "source": []
  },
  {
   "cell_type": "code",
   "execution_count": null,
   "metadata": {},
   "outputs": [],
   "source": []
  }
 ],
 "metadata": {
  "kernelspec": {
   "display_name": "py3_network_gral",
   "language": "python",
   "name": "py3_network_gral"
  },
  "language_info": {
   "codemirror_mode": {
    "name": "ipython",
    "version": 3
   },
   "file_extension": ".py",
   "mimetype": "text/x-python",
   "name": "python",
   "nbconvert_exporter": "python",
   "pygments_lexer": "ipython3",
   "version": "3.6.9"
  }
 },
 "nbformat": 4,
 "nbformat_minor": 2
}
