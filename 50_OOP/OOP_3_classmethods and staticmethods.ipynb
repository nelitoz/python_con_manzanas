{
 "cells": [
  {
   "cell_type": "code",
   "execution_count": null,
   "metadata": {},
   "outputs": [],
   "source": [
    "class Employee:\n",
    "    \n",
    "    num_of_emps = 0\n",
    "    raise_amount = 1.04\n",
    "    \n",
    "    def __init__(self,first,last,pay):\n",
    "        self.first = first\n",
    "        self.last = last\n",
    "        self.pay = pay\n",
    "        self.mail = f\"{self.first.lower()}.{self.last.lower()}@nelitoz.com\"\n",
    "        Employee.num_of_emps += 1\n",
    "        self.employe_numer = Employee.num_of_emps\n",
    "    \n",
    "    def fullname(self):\n",
    "        return f\"{self.first} {self.last}\"\n",
    "    \n",
    "    def apply_raise(self):\n",
    "        self.pay = int(self.pay * self.raise_amount)"
   ]
  },
  {
   "cell_type": "code",
   "execution_count": null,
   "metadata": {},
   "outputs": [],
   "source": [
    "emp1 = Employee(\"Daniel\",\"Castillo\",100)\n",
    "print (emp1.fullname())\n",
    "print (emp1.mail)\n",
    "print (emp1.pay)\n",
    "print (\"applying raise\")\n",
    "emp1.apply_raise()\n",
    "print (emp1.pay)"
   ]
  },
  {
   "cell_type": "code",
   "execution_count": null,
   "metadata": {},
   "outputs": [],
   "source": [
    "emp2 = Employee(\"Jorge\",\"Pacheco\",100)\n",
    "print (emp2.fullname())\n",
    "print (emp2.mail)\n",
    "print (emp2.pay)\n",
    "print (\"applying raise\")\n",
    "emp2.apply_raise()\n",
    "print (emp2.pay)"
   ]
  },
  {
   "cell_type": "code",
   "execution_count": null,
   "metadata": {},
   "outputs": [],
   "source": [
    "emp3 = Employee(\"Pedro\",\"Paramo\",100)\n",
    "print (emp3.fullname())\n",
    "print (emp3.mail)\n",
    "print (emp3.pay)\n",
    "print (\"applying raise\")\n",
    "emp3.apply_raise()\n",
    "print (emp3.pay)"
   ]
  },
  {
   "cell_type": "code",
   "execution_count": null,
   "metadata": {},
   "outputs": [],
   "source": [
    "print (emp1.employe_numer)\n",
    "print (emp2.employe_numer)\n",
    "print (emp3.employe_numer)"
   ]
  },
  {
   "cell_type": "markdown",
   "metadata": {},
   "source": [
    "los metodos dentro de una clase, toman el nombre de la instancia como primer argumento.\n",
    "lo que nos gustaria es que los metodos tomen el nombre de la clase como primer argumento.\n",
    "Para eso, necesitamos un decorador. "
   ]
  },
  {
   "cell_type": "code",
   "execution_count": 9,
   "metadata": {},
   "outputs": [],
   "source": [
    "class Employee:\n",
    "    \n",
    "    num_of_emps = 0\n",
    "    raise_amount = 1.04\n",
    "    \n",
    "    def __init__(self,first,last,pay):\n",
    "        self.first = first\n",
    "        self.last = last\n",
    "        self.pay = pay\n",
    "        self.mail = f\"{self.first.lower()}.{self.last.lower()}@nelitoz.com\"\n",
    "        Employee.num_of_emps += 1\n",
    "        self.employe_numer = Employee.num_of_emps\n",
    "    \n",
    "    def fullname(self):\n",
    "        return f\"{self.first} {self.last}\"\n",
    "    \n",
    "    def apply_raise(self):\n",
    "        self.pay = int(self.pay * self.raise_amount)\n",
    "    #ahora cuando manden llamar el metodo set_raise_amt, aceptara la clase como primer argumento.\n",
    "    #Esto tendra como concecuencia que cambiaremos la variable de toda la clase en lugar de \n",
    "    #solo cambiar la variable de la instancia.\n",
    "    @classmethod\n",
    "    def set_raise_amt(cls,amount):\n",
    "        cls.raise_amount = amount"
   ]
  },
  {
   "cell_type": "code",
   "execution_count": 10,
   "metadata": {},
   "outputs": [
    {
     "name": "stdout",
     "output_type": "stream",
     "text": [
      "Daniel Castillo\n",
      "daniel.castillo@nelitoz.com\n",
      "100\n",
      "applying raise\n",
      "104\n"
     ]
    }
   ],
   "source": [
    "emp1 = Employee(\"Daniel\",\"Castillo\",100)\n",
    "print (emp1.fullname())\n",
    "print (emp1.mail)\n",
    "print (emp1.pay)\n",
    "print (\"applying raise\")\n",
    "emp1.apply_raise()\n",
    "print (emp1.pay)"
   ]
  },
  {
   "cell_type": "code",
   "execution_count": 15,
   "metadata": {},
   "outputs": [
    {
     "name": "stdout",
     "output_type": "stream",
     "text": [
      "David Bowie\n",
      "david.bowie@nelitoz.com\n",
      "100\n",
      "applying raise\n",
      "105\n"
     ]
    }
   ],
   "source": [
    "emp2 = Employee(\"David\",\"Bowie\",100)\n",
    "print (emp2.fullname())\n",
    "print (emp2.mail)\n",
    "print (emp2.pay)\n",
    "print (\"applying raise\")\n",
    "emp2.apply_raise()\n",
    "print (emp2.pay)"
   ]
  },
  {
   "cell_type": "code",
   "execution_count": 11,
   "metadata": {},
   "outputs": [],
   "source": [
    "#mando llamar al metodo y este cambio aplicara para toda la clase\n",
    "Employee.set_raise_amt(1.05)"
   ]
  },
  {
   "cell_type": "code",
   "execution_count": 16,
   "metadata": {},
   "outputs": [
    {
     "name": "stdout",
     "output_type": "stream",
     "text": [
      "1.05\n",
      "1.05\n"
     ]
    }
   ],
   "source": [
    "print (emp1.raise_amount)\n",
    "print (emp2.raise_amount)"
   ]
  },
  {
   "cell_type": "code",
   "execution_count": 17,
   "metadata": {},
   "outputs": [],
   "source": [
    "#incluso puedo llamar al metodo desde la instancia y aun asi afectara a toda la clase\n",
    "emp1.set_raise_amt(1.20)"
   ]
  },
  {
   "cell_type": "code",
   "execution_count": 18,
   "metadata": {},
   "outputs": [
    {
     "name": "stdout",
     "output_type": "stream",
     "text": [
      "1.2\n",
      "1.2\n"
     ]
    }
   ],
   "source": [
    "print (emp1.raise_amount)\n",
    "print (emp2.raise_amount)"
   ]
  },
  {
   "cell_type": "markdown",
   "metadata": {},
   "source": [
    "Ahora, usaremos los classmethods como constructores.\n",
    "El problema que queremos resolver es que tenemos strings con\n",
    "la informacion de los clientes, pero concatenada con un guio\n",
    "ej: daniel-castillo-900\n",
    "lo que haremos sera crear una class method que nos ayude a \n",
    "parsear el string, crear la instancia y retorna la instancia\n",
    "\n",
    "Este ejemplo nos ayudaria a nuestra clase por si en el futuro la \n",
    "informacion de los empleados viene en otro formato del que esperamos\n",
    "de esta forma podemos crear las instancias con el tipo de string\n",
    "que nos llegue."
   ]
  },
  {
   "cell_type": "code",
   "execution_count": 21,
   "metadata": {},
   "outputs": [],
   "source": [
    "class Employee:\n",
    "    \n",
    "    num_of_emps = 0\n",
    "    raise_amount = 1.04\n",
    "    \n",
    "    def __init__(self,first,last,pay):\n",
    "        self.first = first\n",
    "        self.last = last\n",
    "        self.pay = pay\n",
    "        self.mail = f\"{self.first.lower()}.{self.last.lower()}@nelitoz.com\"\n",
    "        Employee.num_of_emps += 1\n",
    "        self.employe_numer = Employee.num_of_emps\n",
    "    \n",
    "    def fullname(self):\n",
    "        return f\"{self.first} {self.last}\"\n",
    "    \n",
    "    def apply_raise(self):\n",
    "        self.pay = int(self.pay * self.raise_amount)\n",
    "\n",
    "    @classmethod\n",
    "    def set_raise_amt(cls,amount):\n",
    "        cls.raise_amount = amount\n",
    "    \n",
    "    @classmethod\n",
    "    def from_string(cls,emp_string):\n",
    "        first, last, pay = emp_string.split(\"-\")\n",
    "        return cls(first, last, pay)\n",
    "        "
   ]
  },
  {
   "cell_type": "code",
   "execution_count": 22,
   "metadata": {},
   "outputs": [],
   "source": [
    "emp_str_1 = \"Rayo-Mcqueen-100\"\n",
    "emp_str_2 = \"Jorge-Campos-200\"\n",
    "emp_str_3 = \"Camelia-Texana-300\"\n",
    "\n",
    "empx = Employee.from_string(emp_str_1)\n",
    "empy = Employee.from_string(emp_str_2)\n",
    "empz = Employee.from_string(emp_str_3)\n"
   ]
  },
  {
   "cell_type": "code",
   "execution_count": 24,
   "metadata": {},
   "outputs": [
    {
     "name": "stdout",
     "output_type": "stream",
     "text": [
      "Rayo Mcqueen\n",
      "Jorge Campos\n",
      "Camelia Texana\n"
     ]
    }
   ],
   "source": [
    "print (empx.fullname())\n",
    "print (empy.fullname())\n",
    "print (empz.fullname())"
   ]
  },
  {
   "cell_type": "markdown",
   "metadata": {},
   "source": [
    "ahora veremos el concepto de staticmethods\n",
    "los instance methods, (los cuales son los metodos regulares) toman como primer argumento la instancia (self)\n",
    "los class methods, toman como primer argumento a la clase(cls)\n",
    "los static methods, no toman ni la instancia ni la clase como primer argumento\n",
    "los static methods se usan cuando queremos darle una funcionalidad al objeto sin que necesariamente\n",
    "tengamos que modificar o usar variables del objeto"
   ]
  },
  {
   "cell_type": "code",
   "execution_count": 37,
   "metadata": {},
   "outputs": [],
   "source": [
    "class Employee:\n",
    "    import time\n",
    "    num_of_emps = 0\n",
    "    raise_amount = 1.04\n",
    "    \n",
    "    def __init__(self,first,last,pay):\n",
    "        self.first = first\n",
    "        self.last = last\n",
    "        self.pay = pay\n",
    "        self.mail = f\"{self.first.lower()}.{self.last.lower()}@nelitoz.com\"\n",
    "        Employee.num_of_emps += 1\n",
    "        self.employe_numer = Employee.num_of_emps\n",
    "    \n",
    "    def fullname(self):\n",
    "        return f\"{self.first} {self.last}\"\n",
    "    \n",
    "    def apply_raise(self):\n",
    "        self.pay = int(self.pay * self.raise_amount)\n",
    "\n",
    "    @classmethod\n",
    "    def set_raise_amt(cls,amount):\n",
    "        cls.raise_amount = amount\n",
    "    \n",
    "    @classmethod\n",
    "    #uso este class method como una especie de constructor del objeto\n",
    "    def from_string(cls,emp_string):\n",
    "        first, last, pay = emp_string.split(\"-\")\n",
    "        return cls(first, last, pay)\n",
    "    \n",
    "    @staticmethod\n",
    "    #uso este metodo que es relevante para el empleado pero que no\n",
    "    #necesariamente importe si paso una clase o una instancia como\n",
    "    #primer argumento.\n",
    "    def is_workday(day):\n",
    "        if day.weekday()== 5 or day.weekday() == 6:\n",
    "            return False\n",
    "        return True"
   ]
  },
  {
   "cell_type": "code",
   "execution_count": 45,
   "metadata": {},
   "outputs": [
    {
     "name": "stdout",
     "output_type": "stream",
     "text": [
      "Silvia Pinal\n",
      "False\n"
     ]
    }
   ],
   "source": [
    "emp1 = Employee(\"Silvia\",\"Pinal\", 100)\n",
    "import datetime\n",
    "my_date = datetime.date(2020, 11, 15)\n",
    "print (emp1.fullname())\n",
    "print (emp1.is_workday(my_date))"
   ]
  },
  {
   "cell_type": "code",
   "execution_count": null,
   "metadata": {},
   "outputs": [],
   "source": []
  }
 ],
 "metadata": {
  "kernelspec": {
   "display_name": "py3_network_gral",
   "language": "python",
   "name": "py3_network_gral"
  },
  "language_info": {
   "codemirror_mode": {
    "name": "ipython",
    "version": 3
   },
   "file_extension": ".py",
   "mimetype": "text/x-python",
   "name": "python",
   "nbconvert_exporter": "python",
   "pygments_lexer": "ipython3",
   "version": "3.6.9"
  }
 },
 "nbformat": 4,
 "nbformat_minor": 2
}
