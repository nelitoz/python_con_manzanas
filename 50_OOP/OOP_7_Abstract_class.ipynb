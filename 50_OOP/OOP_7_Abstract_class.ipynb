{
 "cells": [
  {
   "cell_type": "markdown",
   "metadata": {},
   "source": [
    "una clase abstracta es una clase que contiene funciones sin cuerpo.\n",
    "la razon de estas clases abstractas es definir un perfil para otras \n",
    "sub-classe, dicho perfil tendra definidos los metodos que las\n",
    "subclases deberan usar. Por otro lado, la clase abstracta no debe ser\n",
    "instanciada individualmente.\n",
    "Miremos un ejemplo"
   ]
  },
  {
   "cell_type": "code",
   "execution_count": null,
   "metadata": {},
   "outputs": [],
   "source": []
  },
  {
   "cell_type": "code",
   "execution_count": null,
   "metadata": {},
   "outputs": [],
   "source": [
    "# clase Shape, tiene 2 metodos sin cuerpo\n",
    "# \n",
    "class Shape():\n",
    "    def area(self): pass\n",
    "\n",
    "    def perimeter(self): pass\n",
    "\n",
    "# subclase Square, hereda a la clae shape y \n",
    "# define el cuerpo de los metodos\n",
    "class Square(Shape):\n",
    "    def __init__(self, side):\n",
    "        self.__side = side\n",
    "    def area(self):\n",
    "        return self.__side * self.__side\n",
    "    def perimeter(self):\n",
    "        return 4 * self.__side\n"
   ]
  },
  {
   "cell_type": "code",
   "execution_count": null,
   "metadata": {},
   "outputs": [],
   "source": [
    "cuerpo = Shape()\n",
    "cuadrado = Square(5)\n",
    "print (cuadrado.area())\n",
    "print (cuadrado.perimeter())"
   ]
  },
  {
   "cell_type": "markdown",
   "metadata": {},
   "source": [
    "En realidad Python no soporta por default el concepto de abstract classes.\n",
    "Vemos que la regla la cual dicta que la clase abstracta no se puede instanciar\n",
    "se rompe porque el objeto cuerpo es una instancia de la clase Shape\n",
    "Para convertir una clase normal, a una clase abstracta, usamos al modulo abc"
   ]
  },
  {
   "cell_type": "code",
   "execution_count": null,
   "metadata": {},
   "outputs": [],
   "source": [
    "from abc import ABC,abstractmethod\n",
    "class Shape(ABC):\n",
    "    @abstractmethod\n",
    "    def area(self): pass\n",
    "    \n",
    "    @abstractmethod\n",
    "    def perimeter(self): pass\n",
    "\n",
    "# subclase Square, hereda a la clae shape y \n",
    "# define el cuerpo del metodo area.\n",
    "# miremos que pasa cuando no definimos los metodos\n",
    "# de la clase abstracta\n",
    "class Square(Shape):\n",
    "    def __init__(self, side):\n",
    "        self.__side = side\n",
    "    def area(self):\n",
    "        return self.__side * self.__side"
   ]
  },
  {
   "cell_type": "code",
   "execution_count": null,
   "metadata": {},
   "outputs": [],
   "source": [
    "# ahora veo que el objeto cuerpo no se instancia de la clase abstracta Shape\n",
    "cuerpo = Shape()\n",
    "cuadrado = Square(5)\n",
    "print (cuadrado.area())"
   ]
  },
  {
   "cell_type": "code",
   "execution_count": null,
   "metadata": {},
   "outputs": [],
   "source": [
    "# ahora veo que el que el objeto cuadrado no se intancia de la subclase Square\n",
    "# la razon es que la sub clase square no implemento todos los metodos de su clase\n",
    "# padre\n",
    "#cuerpo = Shape()\n",
    "cuadrado = Square(5)\n",
    "print (cuadrado.area())"
   ]
  },
  {
   "cell_type": "code",
   "execution_count": null,
   "metadata": {},
   "outputs": [],
   "source": [
    "from abc import ABC,abstractmethod\n",
    "class Shape(ABC):\n",
    "    @abstractmethod\n",
    "    def area(self): pass\n",
    "    \n",
    "    @abstractmethod\n",
    "    def perimeter(self): pass\n",
    "\n",
    "# subclase Square, hereda a la clae shape y \n",
    "# define el cuerpo del metodo area.\n",
    "# define el cuerpot del metodo perimeter.\n",
    "class Square(Shape):\n",
    "    def __init__(self, side):\n",
    "        self.__side = side\n",
    "    def area(self):\n",
    "        return self.__side * self.__side\n",
    "    def perimeter(self):\n",
    "        return 4 * self.__side"
   ]
  },
  {
   "cell_type": "code",
   "execution_count": null,
   "metadata": {},
   "outputs": [],
   "source": [
    "cuadrado = Square(5)\n",
    "print (cuadrado.area())\n",
    "print (cuadrado.perimeter())"
   ]
  },
  {
   "cell_type": "code",
   "execution_count": null,
   "metadata": {},
   "outputs": [],
   "source": []
  }
 ],
 "metadata": {
  "kernelspec": {
   "display_name": "py3_network_gral",
   "language": "python",
   "name": "py3_network_gral"
  },
  "language_info": {
   "codemirror_mode": {
    "name": "ipython",
    "version": 3
   },
   "file_extension": ".py",
   "mimetype": "text/x-python",
   "name": "python",
   "nbconvert_exporter": "python",
   "pygments_lexer": "ipython3",
   "version": "3.6.9"
  }
 },
 "nbformat": 4,
 "nbformat_minor": 2
}
