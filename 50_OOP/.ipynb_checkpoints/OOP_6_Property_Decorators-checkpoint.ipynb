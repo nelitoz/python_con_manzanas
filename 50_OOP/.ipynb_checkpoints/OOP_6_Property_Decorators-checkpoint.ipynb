{
 "cells": [
  {
   "cell_type": "code",
   "execution_count": null,
   "metadata": {},
   "outputs": [],
   "source": [
    "class Employee:\n",
    "    def __init__(self,first,last,pay):\n",
    "        self.first = first\n",
    "        self.last = last\n",
    "        self.pay = pay\n",
    "        self.mail = f\"{(self.first).lower()}.{self.last.lower()}@nelitoz.com\"\n",
    "    \n",
    "    def fullname(self):\n",
    "        return f\"{self.first} {self.last}\""
   ]
  },
  {
   "cell_type": "code",
   "execution_count": null,
   "metadata": {},
   "outputs": [],
   "source": [
    "emp1 = Employee(\"Daniel\",\"Castillo\",100)\n",
    "print (emp1.first)\n",
    "print (emp1.last)\n",
    "print (emp1.mail)\n",
    "print (emp1.fullname())"
   ]
  },
  {
   "cell_type": "code",
   "execution_count": null,
   "metadata": {},
   "outputs": [],
   "source": [
    "emp1.first = \"Leinad\"\n",
    "print (emp1.first)\n",
    "print (emp1.last)\n",
    "print (emp1.mail)\n",
    "print (emp1.fullname())"
   ]
  },
  {
   "cell_type": "markdown",
   "metadata": {},
   "source": [
    "veo que cambiar el nombre, no me cambia el correo, lo cual seria esperado en este ejemplo.\n",
    "veo que fullname si cambia, y es porque mail esta dentro de la funcion init\n",
    "una solucion seria crear una funcion mail."
   ]
  },
  {
   "cell_type": "code",
   "execution_count": null,
   "metadata": {},
   "outputs": [],
   "source": [
    "class Employee:\n",
    "    def __init__(self,first,last,pay):\n",
    "        self.first = first\n",
    "        self.last = last\n",
    "        self.pay = pay\n",
    "        \n",
    "    def mail(self):\n",
    "        return f\"{(self.first).lower()}.{self.last.lower()}@nelitoz.com\"\n",
    "\n",
    "    def fullname(self):\n",
    "        return f\"{self.first} {self.last}\""
   ]
  },
  {
   "cell_type": "code",
   "execution_count": null,
   "metadata": {},
   "outputs": [],
   "source": [
    "\"\"\"El Problema con esta solucion es que debo cambiar el codigo\n",
    "de los scripts que usan mi objeto de tal forma que ahora\n",
    "manden llamar a la funcion mail\"\"\"\n",
    "emp1 = Employee(\"Daniel\",\"Castillo\",100)\n",
    "print (emp1.first)\n",
    "print (emp1.last)\n",
    "print (emp1.mail())\n",
    "print (emp1.fullname())"
   ]
  },
  {
   "cell_type": "code",
   "execution_count": null,
   "metadata": {},
   "outputs": [],
   "source": [
    "emp1.first = \"Leinad\"\n",
    "print (emp1.first)\n",
    "print (emp1.last)\n",
    "print (emp1.mail())\n",
    "print (emp1.fullname())"
   ]
  },
  {
   "cell_type": "markdown",
   "metadata": {},
   "source": [
    "Ahora es claro el problema. Me gustaria seguir usando a mail como si fuera una variable y no \n",
    "mandarla llamar como el metodo que es.\n",
    "Para usar un metodo como si fuera una variable usarmos el decorador property"
   ]
  },
  {
   "cell_type": "code",
   "execution_count": null,
   "metadata": {},
   "outputs": [],
   "source": [
    "class Employee:\n",
    "    def __init__(self,first,last,pay):\n",
    "        self.first = first\n",
    "        self.last = last\n",
    "        self.pay = pay\n",
    "    @property\n",
    "    def mail(self):\n",
    "        return f\"{(self.first).lower()}.{self.last.lower()}@nelitoz.com\"\n",
    "    \n",
    "    @property\n",
    "    def fullname(self):\n",
    "        return f\"{self.first} {self.last}\""
   ]
  },
  {
   "cell_type": "code",
   "execution_count": null,
   "metadata": {},
   "outputs": [],
   "source": [
    "emp1 = Employee(\"Daniel\",\"Castillo\",100)\n",
    "print (emp1.first)\n",
    "print (emp1.last)\n",
    "print (emp1.mail)\n",
    "print (emp1.fullname)"
   ]
  },
  {
   "cell_type": "code",
   "execution_count": null,
   "metadata": {},
   "outputs": [],
   "source": [
    "emp1.first = \"Leinad\"\n",
    "print (emp1.first)\n",
    "print (emp1.last)\n",
    "print (emp1.mail)\n",
    "print (emp1.fullname)"
   ]
  },
  {
   "cell_type": "markdown",
   "metadata": {},
   "source": [
    "Veamos un ejemplo de setter, queremos que al modificar la funcion fullname,\n",
    "se actualice first, last y mail. al intentarlo vemos que \n",
    "primeramente nos da un error \"cant' set attribute\""
   ]
  },
  {
   "cell_type": "code",
   "execution_count": null,
   "metadata": {},
   "outputs": [],
   "source": [
    "#emp1.fullname = \"Frank Sianatra\""
   ]
  },
  {
   "cell_type": "markdown",
   "metadata": {},
   "source": [
    "Vamos a crear un decorador setter"
   ]
  },
  {
   "cell_type": "code",
   "execution_count": null,
   "metadata": {},
   "outputs": [],
   "source": [
    "class Employee:\n",
    "    def __init__(self,first,last,pay):\n",
    "        self.first = first\n",
    "        self.last = last\n",
    "        self.pay = pay\n",
    "    @property\n",
    "    def mail(self):\n",
    "        return f\"{(self.first).lower()}.{self.last.lower()}@nelitoz.com\"\n",
    "    \n",
    "    @property\n",
    "    def fullname(self):\n",
    "        return f\"{self.first} {self.last}\"\n",
    "    \n",
    "    @fullname.setter\n",
    "    def fullname(self, name):\n",
    "        first, last = name.split(\" \")\n",
    "        self.first = first\n",
    "        self.last = last"
   ]
  },
  {
   "cell_type": "code",
   "execution_count": null,
   "metadata": {},
   "outputs": [],
   "source": [
    "emp1 = Employee(\"Daniel\",\"Castillo\",100)\n",
    "print (emp1.first)\n",
    "print (emp1.last)\n",
    "print (emp1.mail)\n",
    "print (emp1.fullname)"
   ]
  },
  {
   "cell_type": "code",
   "execution_count": null,
   "metadata": {},
   "outputs": [],
   "source": [
    "emp1.first = \"Leinad\"\n",
    "print (emp1.first)\n",
    "print (emp1.last)\n",
    "print (emp1.mail)\n",
    "print (emp1.fullname)"
   ]
  },
  {
   "cell_type": "code",
   "execution_count": null,
   "metadata": {},
   "outputs": [],
   "source": [
    "emp1.fullname=\"Frank Sinatra\""
   ]
  },
  {
   "cell_type": "code",
   "execution_count": null,
   "metadata": {},
   "outputs": [],
   "source": [
    "print (emp1.first)\n",
    "print (emp1.last)\n",
    "print (emp1.mail)\n",
    "print (emp1.fullname)"
   ]
  },
  {
   "cell_type": "markdown",
   "metadata": {},
   "source": [
    "Ahora, vamos a crear un deleter."
   ]
  },
  {
   "cell_type": "code",
   "execution_count": null,
   "metadata": {},
   "outputs": [],
   "source": [
    "class Employee:\n",
    "    def __init__(self,first,last,pay):\n",
    "        self.first = first\n",
    "        self.last = last\n",
    "        self.pay = pay\n",
    "    @property\n",
    "    def mail(self):\n",
    "        return f\"{(self.first).lower()}.{self.last.lower()}@nelitoz.com\"\n",
    "    \n",
    "    @property\n",
    "    def fullname(self):\n",
    "        return f\"{self.first} {self.last}\"\n",
    "    \n",
    "    @fullname.setter\n",
    "    def fullname(self, name):\n",
    "        first, last = name.split(\" \")\n",
    "        self.first = first\n",
    "        self.last = last\n",
    "        \n",
    "    @fullname.deleter\n",
    "    def fullname(self):\n",
    "        print (\"Delete Employee\")\n",
    "        self.first = None\n",
    "        self.last = None"
   ]
  },
  {
   "cell_type": "code",
   "execution_count": null,
   "metadata": {},
   "outputs": [],
   "source": [
    "emp1 = Employee(\"Daniel\",\"Castillo\",100)\n",
    "print (emp1.first)\n",
    "print (emp1.last)\n",
    "print (emp1.mail)\n",
    "print (emp1.fullname)"
   ]
  },
  {
   "cell_type": "code",
   "execution_count": null,
   "metadata": {},
   "outputs": [],
   "source": [
    "emp1.first = \"Leinad\"\n",
    "print (emp1.first)\n",
    "print (emp1.last)\n",
    "print (emp1.mail)\n",
    "print (emp1.fullname)"
   ]
  },
  {
   "cell_type": "code",
   "execution_count": null,
   "metadata": {},
   "outputs": [],
   "source": [
    "emp1.fullname=\"Frank Sinatra\"\n",
    "print (emp1.first)\n",
    "print (emp1.last)\n",
    "print (emp1.mail)\n",
    "print (emp1.fullname)"
   ]
  },
  {
   "cell_type": "code",
   "execution_count": null,
   "metadata": {},
   "outputs": [],
   "source": [
    "del emp1.fullname"
   ]
  },
  {
   "cell_type": "code",
   "execution_count": null,
   "metadata": {},
   "outputs": [],
   "source": [
    "print (emp1.first)\n",
    "print (emp1.last)\n"
   ]
  },
  {
   "cell_type": "code",
   "execution_count": null,
   "metadata": {},
   "outputs": [],
   "source": []
  }
 ],
 "metadata": {
  "kernelspec": {
   "display_name": "py3_network_gral",
   "language": "python",
   "name": "py3_network_gral"
  },
  "language_info": {
   "codemirror_mode": {
    "name": "ipython",
    "version": 3
   },
   "file_extension": ".py",
   "mimetype": "text/x-python",
   "name": "python",
   "nbconvert_exporter": "python",
   "pygments_lexer": "ipython3",
   "version": "3.6.9"
  }
 },
 "nbformat": 4,
 "nbformat_minor": 2
}
